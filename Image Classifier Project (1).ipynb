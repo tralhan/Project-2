{
 "cells": [
  {
   "cell_type": "markdown",
   "metadata": {},
   "source": [
    "# Developing an AI application\n",
    "\n",
    "Going forward, AI algorithms will be incorporated into more and more everyday applications. For example, you might want to include an image classifier in a smart phone app. To do this, you'd use a deep learning model trained on hundreds of thousands of images as part of the overall application architecture. A large part of software development in the future will be using these types of models as common parts of applications. \n",
    "\n",
    "In this project, you'll train an image classifier to recognize different species of flowers. You can imagine using something like this in a phone app that tells you the name of the flower your camera is looking at. In practice you'd train this classifier, then export it for use in your application. We'll be using [this dataset](http://www.robots.ox.ac.uk/~vgg/data/flowers/102/index.html) of 102 flower categories, you can see a few examples below. \n",
    "\n",
    "<img src='assets/Flowers.png' width=500px>\n",
    "\n",
    "The project is broken down into multiple steps:\n",
    "\n",
    "* Load and preprocess the image dataset\n",
    "* Train the image classifier on your dataset\n",
    "* Use the trained classifier to predict image content\n",
    "\n",
    "We'll lead you through each part which you'll implement in Python.\n",
    "\n",
    "When you've completed this project, you'll have an application that can be trained on any set of labeled images. Here your network will be learning about flowers and end up as a command line application. But, what you do with your new skills depends on your imagination and effort in building a dataset. For example, imagine an app where you take a picture of a car, it tells you what the make and model is, then looks up information about it. Go build your own dataset and make something new.\n",
    "\n",
    "First up is importing the packages you'll need. It's good practice to keep all the imports at the beginning of your code. As you work through this notebook and find you need to import a package, make sure to add the import up here."
   ]
  },
  {
   "cell_type": "code",
   "execution_count": 1,
   "metadata": {},
   "outputs": [],
   "source": [
    "# Imports here\n",
    "import torch\n",
    "import PIL\n",
    "import matplotlib.pyplot as plt\n",
    "import numpy as np\n",
    "import seaborn as sns\n",
    "from torchvision import datasets, transforms, models\n",
    "from torch import nn\n",
    "from torch import optim\n",
    "from collections import OrderedDict\n",
    "%matplotlib inline\n",
    "%config InlineBackend.figure_format = 'retina'"
   ]
  },
  {
   "cell_type": "markdown",
   "metadata": {},
   "source": [
    "## Load the data\n",
    "\n",
    "Here you'll use `torchvision` to load the data ([documentation](http://pytorch.org/docs/0.3.0/torchvision/index.html)). The data should be included alongside this notebook, otherwise you can [download it here](https://s3.amazonaws.com/content.udacity-data.com/nd089/flower_data.tar.gz). The dataset is split into three parts, training, validation, and testing. For the training, you'll want to apply transformations such as random scaling, cropping, and flipping. This will help the network generalize leading to better performance. You'll also need to make sure the input data is resized to 224x224 pixels as required by the pre-trained networks.\n",
    "\n",
    "The validation and testing sets are used to measure the model's performance on data it hasn't seen yet. For this you don't want any scaling or rotation transformations, but you'll need to resize then crop the images to the appropriate size.\n",
    "\n",
    "The pre-trained networks you'll use were trained on the ImageNet dataset where each color channel was normalized separately. For all three sets you'll need to normalize the means and standard deviations of the images to what the network expects. For the means, it's `[0.485, 0.456, 0.406]` and for the standard deviations `[0.229, 0.224, 0.225]`, calculated from the ImageNet images.  These values will shift each color channel to be centered at 0 and range from -1 to 1.\n",
    " "
   ]
  },
  {
   "cell_type": "code",
   "execution_count": 2,
   "metadata": {},
   "outputs": [],
   "source": [
    "data_dir = 'flowers'\n",
    "train_dir = data_dir + '/train'\n",
    "valid_dir = data_dir + '/valid'\n",
    "test_dir = data_dir + '/test'"
   ]
  },
  {
   "cell_type": "code",
   "execution_count": 3,
   "metadata": {},
   "outputs": [],
   "source": [
    "# Define transforms for the training data and testing data\n",
    "training_dataset_transformation = transforms.Compose([transforms.RandomResizedCrop(224),\n",
    "                                                      transforms.RandomHorizontalFlip(),\n",
    "                                                      transforms.ToTensor(),\n",
    "                                                      transforms.Normalize([0.485, 0.456, 0.406], \n",
    "                                                                           [0.229, 0.224, 0.225])])\n",
    "\n",
    "testing_dataset_transformation = transforms.Compose([transforms.CenterCrop(224),\n",
    "                                                     transforms.ToTensor(),\n",
    "                                                     transforms.Normalize([0.485, 0.456, 0.406], \n",
    "                                                                          [0.229, 0.224, 0.225])])\n",
    "\n",
    "validation_dataset_transformation = transforms.Compose([transforms.CenterCrop(224),\n",
    "                                                        transforms.ToTensor(),\n",
    "                                                        transforms.Normalize([0.485, 0.456, 0.406], \n",
    "                                                                             [0.229, 0.224, 0.225])])\n",
    "\n",
    "\n",
    "# Pass transforms in here, then run the next cell to see how the transforms look\n",
    "training_dataset = datasets.ImageFolder(train_dir, transform = training_dataset_transformation)\n",
    "testing_dataset = datasets.ImageFolder(test_dir, transform = testing_dataset_transformation)\n",
    "validation_dataset = datasets.ImageFolder(valid_dir, transform = validation_dataset_transformation)\n",
    "\n",
    "training_dataset_loader = torch.utils.data.DataLoader(training_dataset, batch_size = 32, shuffle=True)\n",
    "testing_dataset_loader = torch.utils.data.DataLoader(testing_dataset, batch_size = 32)\n",
    "validation_dataset_loader = torch.utils.data.DataLoader(validation_dataset, batch_size = 32)"
   ]
  },
  {
   "cell_type": "markdown",
   "metadata": {},
   "source": [
    "### Label mapping\n",
    "\n",
    "You'll also need to load in a mapping from category label to category name. You can find this in the file `cat_to_name.json`. It's a JSON object which you can read in with the [`json` module](https://docs.python.org/2/library/json.html). This will give you a dictionary mapping the integer encoded categories to the actual names of the flowers."
   ]
  },
  {
   "cell_type": "code",
   "execution_count": 4,
   "metadata": {},
   "outputs": [],
   "source": [
    "import json\n",
    "\n",
    "with open('cat_to_name.json', 'r') as f:\n",
    "    cat_to_name = json.load(f)"
   ]
  },
  {
   "cell_type": "markdown",
   "metadata": {},
   "source": [
    "# Building and training the classifier\n",
    "\n",
    "Now that the data is ready, it's time to build and train the classifier. As usual, you should use one of the pretrained models from `torchvision.models` to get the image features. Build and train a new feed-forward classifier using those features.\n",
    "\n",
    "We're going to leave this part up to you. Refer to [the rubric](https://review.udacity.com/#!/rubrics/1663/view) for guidance on successfully completing this section. Things you'll need to do:\n",
    "\n",
    "* Load a [pre-trained network](http://pytorch.org/docs/master/torchvision/models.html) (If you need a starting point, the VGG networks work great and are straightforward to use)\n",
    "* Define a new, untrained feed-forward network as a classifier, using ReLU activations and dropout\n",
    "* Train the classifier layers using backpropagation using the pre-trained network to get the features\n",
    "* Track the loss and accuracy on the validation set to determine the best hyperparameters\n",
    "\n",
    "We've left a cell open for you below, but use as many as you need. Our advice is to break the problem up into smaller parts you can run separately. Check that each part is doing what you expect, then move on to the next. You'll likely find that as you work through each part, you'll need to go back and modify your previous code. This is totally normal!\n",
    "\n",
    "When training make sure you're updating only the weights of the feed-forward network. You should be able to get the validation accuracy above 70% if you build everything right. Make sure to try different hyperparameters (learning rate, units in the classifier, epochs, etc) to find the best model. Save those hyperparameters to use as default values in the next part of the project.\n",
    "\n",
    "One last important tip if you're using the workspace to run your code: To avoid having your workspace disconnect during the long-running tasks in this notebook, please read in the earlier page in this lesson called Intro to\n",
    "GPU Workspaces about Keeping Your Session Active. You'll want to include code from the workspace_utils.py module.\n",
    "\n",
    "**Note for Workspace users:** If your network is over 1 GB when saved as a checkpoint, there might be issues with saving backups in your workspace. Typically this happens with wide dense layers after the convolutional layers. If your saved checkpoint is larger than 1 GB (you can open a terminal and check with `ls -lh`), you should reduce the size of your hidden layers and train again."
   ]
  },
  {
   "cell_type": "code",
   "execution_count": 5,
   "metadata": {},
   "outputs": [
    {
     "name": "stderr",
     "output_type": "stream",
     "text": [
      "Downloading: \"https://download.pytorch.org/models/vgg19-dcbb9e9d.pth\" to /root/.torch/models/vgg19-dcbb9e9d.pth\n",
      "100%|██████████| 574673361/574673361 [00:15<00:00, 37769197.18it/s]\n"
     ]
    },
    {
     "data": {
      "text/plain": [
       "VGG(\n",
       "  (features): Sequential(\n",
       "    (0): Conv2d(3, 64, kernel_size=(3, 3), stride=(1, 1), padding=(1, 1))\n",
       "    (1): ReLU(inplace)\n",
       "    (2): Conv2d(64, 64, kernel_size=(3, 3), stride=(1, 1), padding=(1, 1))\n",
       "    (3): ReLU(inplace)\n",
       "    (4): MaxPool2d(kernel_size=2, stride=2, padding=0, dilation=1, ceil_mode=False)\n",
       "    (5): Conv2d(64, 128, kernel_size=(3, 3), stride=(1, 1), padding=(1, 1))\n",
       "    (6): ReLU(inplace)\n",
       "    (7): Conv2d(128, 128, kernel_size=(3, 3), stride=(1, 1), padding=(1, 1))\n",
       "    (8): ReLU(inplace)\n",
       "    (9): MaxPool2d(kernel_size=2, stride=2, padding=0, dilation=1, ceil_mode=False)\n",
       "    (10): Conv2d(128, 256, kernel_size=(3, 3), stride=(1, 1), padding=(1, 1))\n",
       "    (11): ReLU(inplace)\n",
       "    (12): Conv2d(256, 256, kernel_size=(3, 3), stride=(1, 1), padding=(1, 1))\n",
       "    (13): ReLU(inplace)\n",
       "    (14): Conv2d(256, 256, kernel_size=(3, 3), stride=(1, 1), padding=(1, 1))\n",
       "    (15): ReLU(inplace)\n",
       "    (16): Conv2d(256, 256, kernel_size=(3, 3), stride=(1, 1), padding=(1, 1))\n",
       "    (17): ReLU(inplace)\n",
       "    (18): MaxPool2d(kernel_size=2, stride=2, padding=0, dilation=1, ceil_mode=False)\n",
       "    (19): Conv2d(256, 512, kernel_size=(3, 3), stride=(1, 1), padding=(1, 1))\n",
       "    (20): ReLU(inplace)\n",
       "    (21): Conv2d(512, 512, kernel_size=(3, 3), stride=(1, 1), padding=(1, 1))\n",
       "    (22): ReLU(inplace)\n",
       "    (23): Conv2d(512, 512, kernel_size=(3, 3), stride=(1, 1), padding=(1, 1))\n",
       "    (24): ReLU(inplace)\n",
       "    (25): Conv2d(512, 512, kernel_size=(3, 3), stride=(1, 1), padding=(1, 1))\n",
       "    (26): ReLU(inplace)\n",
       "    (27): MaxPool2d(kernel_size=2, stride=2, padding=0, dilation=1, ceil_mode=False)\n",
       "    (28): Conv2d(512, 512, kernel_size=(3, 3), stride=(1, 1), padding=(1, 1))\n",
       "    (29): ReLU(inplace)\n",
       "    (30): Conv2d(512, 512, kernel_size=(3, 3), stride=(1, 1), padding=(1, 1))\n",
       "    (31): ReLU(inplace)\n",
       "    (32): Conv2d(512, 512, kernel_size=(3, 3), stride=(1, 1), padding=(1, 1))\n",
       "    (33): ReLU(inplace)\n",
       "    (34): Conv2d(512, 512, kernel_size=(3, 3), stride=(1, 1), padding=(1, 1))\n",
       "    (35): ReLU(inplace)\n",
       "    (36): MaxPool2d(kernel_size=2, stride=2, padding=0, dilation=1, ceil_mode=False)\n",
       "  )\n",
       "  (classifier): Sequential(\n",
       "    (0): Linear(in_features=25088, out_features=4096, bias=True)\n",
       "    (1): ReLU(inplace)\n",
       "    (2): Dropout(p=0.5)\n",
       "    (3): Linear(in_features=4096, out_features=4096, bias=True)\n",
       "    (4): ReLU(inplace)\n",
       "    (5): Dropout(p=0.5)\n",
       "    (6): Linear(in_features=4096, out_features=1000, bias=True)\n",
       "  )\n",
       ")"
      ]
     },
     "execution_count": 5,
     "metadata": {},
     "output_type": "execute_result"
    }
   ],
   "source": [
    "pretrained_model = models.vgg19(pretrained=True)\n",
    "pretrained_model.name = \"vgg19\"\n",
    "pretrained_model"
   ]
  },
  {
   "cell_type": "code",
   "execution_count": 6,
   "metadata": {},
   "outputs": [],
   "source": [
    "for parameter in pretrained_model.parameters(): \n",
    "    parameter.required_grad = False"
   ]
  },
  {
   "cell_type": "code",
   "execution_count": 7,
   "metadata": {},
   "outputs": [],
   "source": [
    "new_model_classifier = nn.Sequential(OrderedDict([\n",
    "                          ('Linear1', nn.Linear(25088, 4096, bias=True)),\n",
    "                          ('ReLU1', nn.ReLU()),\n",
    "                          ('Dropout', nn.Dropout(p=0.5)),\n",
    "                          ('Linear2', nn.Linear(4096, 102, bias=True)),\n",
    "                          ('Loss', nn.LogSoftmax(dim=1))]))\n",
    "    \n",
    "pretrained_model.classifier = new_model_classifier"
   ]
  },
  {
   "cell_type": "code",
   "execution_count": 8,
   "metadata": {},
   "outputs": [
    {
     "data": {
      "text/plain": [
       "device(type='cuda', index=0)"
      ]
     },
     "execution_count": 8,
     "metadata": {},
     "output_type": "execute_result"
    }
   ],
   "source": [
    "gpu = torch.device(\"cuda:0\" if torch.cuda.is_available() else \"cpu\")\n",
    "gpu"
   ]
  },
  {
   "cell_type": "code",
   "execution_count": 9,
   "metadata": {},
   "outputs": [
    {
     "data": {
      "text/plain": [
       "VGG(\n",
       "  (features): Sequential(\n",
       "    (0): Conv2d(3, 64, kernel_size=(3, 3), stride=(1, 1), padding=(1, 1))\n",
       "    (1): ReLU(inplace)\n",
       "    (2): Conv2d(64, 64, kernel_size=(3, 3), stride=(1, 1), padding=(1, 1))\n",
       "    (3): ReLU(inplace)\n",
       "    (4): MaxPool2d(kernel_size=2, stride=2, padding=0, dilation=1, ceil_mode=False)\n",
       "    (5): Conv2d(64, 128, kernel_size=(3, 3), stride=(1, 1), padding=(1, 1))\n",
       "    (6): ReLU(inplace)\n",
       "    (7): Conv2d(128, 128, kernel_size=(3, 3), stride=(1, 1), padding=(1, 1))\n",
       "    (8): ReLU(inplace)\n",
       "    (9): MaxPool2d(kernel_size=2, stride=2, padding=0, dilation=1, ceil_mode=False)\n",
       "    (10): Conv2d(128, 256, kernel_size=(3, 3), stride=(1, 1), padding=(1, 1))\n",
       "    (11): ReLU(inplace)\n",
       "    (12): Conv2d(256, 256, kernel_size=(3, 3), stride=(1, 1), padding=(1, 1))\n",
       "    (13): ReLU(inplace)\n",
       "    (14): Conv2d(256, 256, kernel_size=(3, 3), stride=(1, 1), padding=(1, 1))\n",
       "    (15): ReLU(inplace)\n",
       "    (16): Conv2d(256, 256, kernel_size=(3, 3), stride=(1, 1), padding=(1, 1))\n",
       "    (17): ReLU(inplace)\n",
       "    (18): MaxPool2d(kernel_size=2, stride=2, padding=0, dilation=1, ceil_mode=False)\n",
       "    (19): Conv2d(256, 512, kernel_size=(3, 3), stride=(1, 1), padding=(1, 1))\n",
       "    (20): ReLU(inplace)\n",
       "    (21): Conv2d(512, 512, kernel_size=(3, 3), stride=(1, 1), padding=(1, 1))\n",
       "    (22): ReLU(inplace)\n",
       "    (23): Conv2d(512, 512, kernel_size=(3, 3), stride=(1, 1), padding=(1, 1))\n",
       "    (24): ReLU(inplace)\n",
       "    (25): Conv2d(512, 512, kernel_size=(3, 3), stride=(1, 1), padding=(1, 1))\n",
       "    (26): ReLU(inplace)\n",
       "    (27): MaxPool2d(kernel_size=2, stride=2, padding=0, dilation=1, ceil_mode=False)\n",
       "    (28): Conv2d(512, 512, kernel_size=(3, 3), stride=(1, 1), padding=(1, 1))\n",
       "    (29): ReLU(inplace)\n",
       "    (30): Conv2d(512, 512, kernel_size=(3, 3), stride=(1, 1), padding=(1, 1))\n",
       "    (31): ReLU(inplace)\n",
       "    (32): Conv2d(512, 512, kernel_size=(3, 3), stride=(1, 1), padding=(1, 1))\n",
       "    (33): ReLU(inplace)\n",
       "    (34): Conv2d(512, 512, kernel_size=(3, 3), stride=(1, 1), padding=(1, 1))\n",
       "    (35): ReLU(inplace)\n",
       "    (36): MaxPool2d(kernel_size=2, stride=2, padding=0, dilation=1, ceil_mode=False)\n",
       "  )\n",
       "  (classifier): Sequential(\n",
       "    (Linear1): Linear(in_features=25088, out_features=4096, bias=True)\n",
       "    (ReLU1): ReLU()\n",
       "    (Dropout): Dropout(p=0.5)\n",
       "    (Linear2): Linear(in_features=4096, out_features=102, bias=True)\n",
       "    (Loss): LogSoftmax()\n",
       "  )\n",
       ")"
      ]
     },
     "execution_count": 9,
     "metadata": {},
     "output_type": "execute_result"
    }
   ],
   "source": [
    "pretrained_model.to(gpu)"
   ]
  },
  {
   "cell_type": "code",
   "execution_count": 10,
   "metadata": {},
   "outputs": [],
   "source": [
    "loss_function = nn.NLLLoss()\n",
    "optimizer = optim.SGD(pretrained_model.classifier.parameters(), lr=0.0001)\n",
    "\n",
    "epochs = 10\n",
    "print_image = 40 \n",
    "iteration = 0"
   ]
  },
  {
   "cell_type": "code",
   "execution_count": 11,
   "metadata": {},
   "outputs": [],
   "source": [
    "def validation(pretrained_model, testing_dataset_loader, loss_function):\n",
    "    validationLoss = 0\n",
    "    validationAccuracy = 0\n",
    "    \n",
    "    for x, (images, labels) in enumerate(testing_dataset_loader):\n",
    "        \n",
    "        images, labels = images.to(gpu), labels.to(gpu)\n",
    "        \n",
    "        output = pretrained_model.forward(images)\n",
    "        validationLoss += loss_function(output, labels).item()\n",
    "        \n",
    "        ps = torch.exp(output)\n",
    "        equality = (labels.data == ps.max(dim=1)[1])\n",
    "        validationAccuracy += equality.type(torch.FloatTensor).mean()\n",
    "    \n",
    "    return validationLoss, validationAccuracy"
   ]
  },
  {
   "cell_type": "code",
   "execution_count": null,
   "metadata": {},
   "outputs": [
    {
     "name": "stdout",
     "output_type": "stream",
     "text": [
      "Initializing Training\n",
      "Epoch: 1/10 |  Training Loss: 4.6494 |  Validation Loss: 4.6230 |  Validation Accuracy: 0.0178\n",
      "Epoch: 1/10 |  Training Loss: 4.6339 |  Validation Loss: 4.6101 |  Validation Accuracy: 0.0168\n",
      "Epoch: 1/10 |  Training Loss: 4.6095 |  Validation Loss: 4.5975 |  Validation Accuracy: 0.0192\n",
      "Epoch: 1/10 |  Training Loss: 4.6202 |  Validation Loss: 4.5867 |  Validation Accuracy: 0.0240\n",
      "Epoch: 1/10 |  Training Loss: 4.5857 |  Validation Loss: 4.5743 |  Validation Accuracy: 0.0325\n",
      "Epoch: 2/10 |  Training Loss: 4.0110 |  Validation Loss: 4.5634 |  Validation Accuracy: 0.0421\n",
      "Epoch: 2/10 |  Training Loss: 4.5686 |  Validation Loss: 4.5518 |  Validation Accuracy: 0.0421\n",
      "Epoch: 2/10 |  Training Loss: 4.5553 |  Validation Loss: 4.5412 |  Validation Accuracy: 0.0421\n",
      "Epoch: 2/10 |  Training Loss: 4.5445 |  Validation Loss: 4.5300 |  Validation Accuracy: 0.0457\n",
      "Epoch: 2/10 |  Training Loss: 4.5352 |  Validation Loss: 4.5202 |  Validation Accuracy: 0.0505\n",
      "Epoch: 3/10 |  Training Loss: 3.3828 |  Validation Loss: 4.5098 |  Validation Accuracy: 0.0505\n",
      "Epoch: 3/10 |  Training Loss: 4.5138 |  Validation Loss: 4.4997 |  Validation Accuracy: 0.0517\n",
      "Epoch: 3/10 |  Training Loss: 4.5099 |  Validation Loss: 4.4901 |  Validation Accuracy: 0.0529\n",
      "Epoch: 3/10 |  Training Loss: 4.5059 |  Validation Loss: 4.4810 |  Validation Accuracy: 0.0541\n",
      "Epoch: 3/10 |  Training Loss: 4.4675 |  Validation Loss: 4.4710 |  Validation Accuracy: 0.0565\n",
      "Epoch: 4/10 |  Training Loss: 2.7926 |  Validation Loss: 4.4623 |  Validation Accuracy: 0.0565\n",
      "Epoch: 4/10 |  Training Loss: 4.4561 |  Validation Loss: 4.4530 |  Validation Accuracy: 0.0553\n",
      "Epoch: 4/10 |  Training Loss: 4.4605 |  Validation Loss: 4.4440 |  Validation Accuracy: 0.0541\n",
      "Epoch: 4/10 |  Training Loss: 4.4322 |  Validation Loss: 4.4346 |  Validation Accuracy: 0.0565\n",
      "Epoch: 4/10 |  Training Loss: 4.4420 |  Validation Loss: 4.4262 |  Validation Accuracy: 0.0577\n",
      "Epoch: 5/10 |  Training Loss: 2.2064 |  Validation Loss: 4.4169 |  Validation Accuracy: 0.0565\n",
      "Epoch: 5/10 |  Training Loss: 4.4211 |  Validation Loss: 4.4086 |  Validation Accuracy: 0.0613\n",
      "Epoch: 5/10 |  Training Loss: 4.4094 |  Validation Loss: 4.4005 |  Validation Accuracy: 0.0625\n",
      "Epoch: 5/10 |  Training Loss: 4.3951 |  Validation Loss: 4.3928 |  Validation Accuracy: 0.0589\n",
      "Epoch: 5/10 |  Training Loss: 4.3501 |  Validation Loss: 4.3835 |  Validation Accuracy: 0.0601\n",
      "Epoch: 6/10 |  Training Loss: 1.6404 |  Validation Loss: 4.3756 |  Validation Accuracy: 0.0613\n",
      "Epoch: 6/10 |  Training Loss: 4.3707 |  Validation Loss: 4.3676 |  Validation Accuracy: 0.0613\n",
      "Epoch: 6/10 |  Training Loss: 4.3568 |  Validation Loss: 4.3595 |  Validation Accuracy: 0.0661\n",
      "Epoch: 6/10 |  Training Loss: 4.3611 |  Validation Loss: 4.3520 |  Validation Accuracy: 0.0649\n",
      "Epoch: 6/10 |  Training Loss: 4.3445 |  Validation Loss: 4.3441 |  Validation Accuracy: 0.0661\n",
      "Epoch: 7/10 |  Training Loss: 1.0717 |  Validation Loss: 4.3363 |  Validation Accuracy: 0.0673\n",
      "Epoch: 7/10 |  Training Loss: 4.3392 |  Validation Loss: 4.3284 |  Validation Accuracy: 0.0697\n",
      "Epoch: 7/10 |  Training Loss: 4.3420 |  Validation Loss: 4.3214 |  Validation Accuracy: 0.0685\n",
      "Epoch: 7/10 |  Training Loss: 4.3017 |  Validation Loss: 4.3136 |  Validation Accuracy: 0.0697\n",
      "Epoch: 7/10 |  Training Loss: 4.2885 |  Validation Loss: 4.3057 |  Validation Accuracy: 0.0733\n",
      "Epoch: 8/10 |  Training Loss: 0.5406 |  Validation Loss: 4.2988 |  Validation Accuracy: 0.0733\n",
      "Epoch: 8/10 |  Training Loss: 4.2604 |  Validation Loss: 4.2912 |  Validation Accuracy: 0.0745\n",
      "Epoch: 8/10 |  Training Loss: 4.2608 |  Validation Loss: 4.2841 |  Validation Accuracy: 0.0781\n",
      "Epoch: 8/10 |  Training Loss: 4.2814 |  Validation Loss: 4.2770 |  Validation Accuracy: 0.0805\n",
      "Epoch: 8/10 |  Training Loss: 4.2497 |  Validation Loss: 4.2692 |  Validation Accuracy: 0.0817\n",
      "Epoch: 8/10 |  Training Loss: 4.2734 |  Validation Loss: 4.2623 |  Validation Accuracy: 0.0841\n",
      "Epoch: 9/10 |  Training Loss: 4.2269 |  Validation Loss: 4.2550 |  Validation Accuracy: 0.0829\n",
      "Epoch: 9/10 |  Training Loss: 4.2119 |  Validation Loss: 4.2479 |  Validation Accuracy: 0.0817\n",
      "Epoch: 9/10 |  Training Loss: 4.2239 |  Validation Loss: 4.2405 |  Validation Accuracy: 0.0829\n",
      "Epoch: 9/10 |  Training Loss: 4.2574 |  Validation Loss: 4.2340 |  Validation Accuracy: 0.0889\n",
      "Epoch: 9/10 |  Training Loss: 4.2308 |  Validation Loss: 4.2266 |  Validation Accuracy: 0.0950\n",
      "Epoch: 10/10 |  Training Loss: 3.6849 |  Validation Loss: 4.2199 |  Validation Accuracy: 0.0913\n",
      "Epoch: 10/10 |  Training Loss: 4.1920 |  Validation Loss: 4.2127 |  Validation Accuracy: 0.0974\n",
      "Epoch: 10/10 |  Training Loss: 4.1667 |  Validation Loss: 4.2059 |  Validation Accuracy: 0.0950\n"
     ]
    }
   ],
   "source": [
    "print(\"Initializing Training\")\n",
    "\n",
    "for epoch in range(epochs):\n",
    "    loss = 0\n",
    "    \n",
    "    for y, (images, labels) in enumerate(training_dataset_loader):\n",
    "        iteration += 1\n",
    "        \n",
    "        images, labels = images.to(gpu), labels.to(gpu)\n",
    "        \n",
    "        optimizer.zero_grad()\n",
    "        \n",
    "        outputs = pretrained_model.forward(images)\n",
    "        loss_new = loss_function(outputs, labels)\n",
    "        loss_new.backward()\n",
    "        optimizer.step()\n",
    "        \n",
    "        loss += loss_new.item()\n",
    "        \n",
    "        if iteration % print_image == 0:\n",
    "            pretrained_model.eval()\n",
    "\n",
    "            with torch.no_grad():\n",
    "                validationLoss, validationAccuracy = validation(pretrained_model, validation_dataset_loader, loss_function)\n",
    "            \n",
    "            print(\"Epoch: {}/{} | \".format(epoch+1, epochs),\n",
    "                  \"Training Loss: {:.4f} | \".format(loss/print_image),\n",
    "                  \"Validation Loss: {:.4f} | \".format(validationLoss/len(testing_dataset_loader)),\n",
    "                  \"Validation Accuracy: {:.4f}\".format(validationAccuracy/len(testing_dataset_loader)))\n",
    "            \n",
    "            loss = 0\n",
    "            pretrained_model.train()\n",
    "\n",
    "print(\"Completed Training\")"
   ]
  },
  {
   "cell_type": "markdown",
   "metadata": {},
   "source": [
    "## Testing your network\n",
    "\n",
    "It's good practice to test your trained network on test data, images the network has never seen either in training or validation. This will give you a good estimate for the model's performance on completely new images. Run the test images through the network and measure the accuracy, the same way you did validation. You should be able to reach around 70% accuracy on the test set if the model has been trained well."
   ]
  },
  {
   "cell_type": "code",
   "execution_count": 1,
   "metadata": {},
   "outputs": [],
   "source": [
    "# TODO: Do validation on the test set"
   ]
  },
  {
   "cell_type": "markdown",
   "metadata": {},
   "source": [
    "## Save the checkpoint\n",
    "\n",
    "Now that your network is trained, save the model so you can load it later for making predictions. You probably want to save other things such as the mapping of classes to indices which you get from one of the image datasets: `image_datasets['train'].class_to_idx`. You can attach this to the model as an attribute which makes inference easier later on.\n",
    "\n",
    "```model.class_to_idx = image_datasets['train'].class_to_idx```\n",
    "\n",
    "Remember that you'll want to completely rebuild the model later so you can use it for inference. Make sure to include any information you need in the checkpoint. If you want to load the model and keep training, you'll want to save the number of epochs as well as the optimizer state, `optimizer.state_dict`. You'll likely want to use this trained model in the next part of the project, so best to save it now."
   ]
  },
  {
   "cell_type": "code",
   "execution_count": null,
   "metadata": {},
   "outputs": [],
   "source": [
    "# TODO: Save the checkpoint "
   ]
  },
  {
   "cell_type": "markdown",
   "metadata": {},
   "source": [
    "## Loading the checkpoint\n",
    "\n",
    "At this point it's good to write a function that can load a checkpoint and rebuild the model. That way you can come back to this project and keep working on it without having to retrain the network."
   ]
  },
  {
   "cell_type": "code",
   "execution_count": null,
   "metadata": {},
   "outputs": [],
   "source": [
    "# TODO: Write a function that loads a checkpoint and rebuilds the model"
   ]
  },
  {
   "cell_type": "markdown",
   "metadata": {},
   "source": [
    "# Inference for classification\n",
    "\n",
    "Now you'll write a function to use a trained network for inference. That is, you'll pass an image into the network and predict the class of the flower in the image. Write a function called `predict` that takes an image and a model, then returns the top $K$ most likely classes along with the probabilities. It should look like \n",
    "\n",
    "```python\n",
    "probs, classes = predict(image_path, model)\n",
    "print(probs)\n",
    "print(classes)\n",
    "> [ 0.01558163  0.01541934  0.01452626  0.01443549  0.01407339]\n",
    "> ['70', '3', '45', '62', '55']\n",
    "```\n",
    "\n",
    "First you'll need to handle processing the input image such that it can be used in your network. \n",
    "\n",
    "## Image Preprocessing\n",
    "\n",
    "You'll want to use `PIL` to load the image ([documentation](https://pillow.readthedocs.io/en/latest/reference/Image.html)). It's best to write a function that preprocesses the image so it can be used as input for the model. This function should process the images in the same manner used for training. \n",
    "\n",
    "First, resize the images where the shortest side is 256 pixels, keeping the aspect ratio. This can be done with the [`thumbnail`](http://pillow.readthedocs.io/en/3.1.x/reference/Image.html#PIL.Image.Image.thumbnail) or [`resize`](http://pillow.readthedocs.io/en/3.1.x/reference/Image.html#PIL.Image.Image.thumbnail) methods. Then you'll need to crop out the center 224x224 portion of the image.\n",
    "\n",
    "Color channels of images are typically encoded as integers 0-255, but the model expected floats 0-1. You'll need to convert the values. It's easiest with a Numpy array, which you can get from a PIL image like so `np_image = np.array(pil_image)`.\n",
    "\n",
    "As before, the network expects the images to be normalized in a specific way. For the means, it's `[0.485, 0.456, 0.406]` and for the standard deviations `[0.229, 0.224, 0.225]`. You'll want to subtract the means from each color channel, then divide by the standard deviation. \n",
    "\n",
    "And finally, PyTorch expects the color channel to be the first dimension but it's the third dimension in the PIL image and Numpy array. You can reorder dimensions using [`ndarray.transpose`](https://docs.scipy.org/doc/numpy-1.13.0/reference/generated/numpy.ndarray.transpose.html). The color channel needs to be first and retain the order of the other two dimensions."
   ]
  },
  {
   "cell_type": "code",
   "execution_count": null,
   "metadata": {},
   "outputs": [],
   "source": [
    "def process_image(image):\n",
    "    ''' Scales, crops, and normalizes a PIL image for a PyTorch model,\n",
    "        returns an Numpy array\n",
    "    '''\n",
    "    \n",
    "    # TODO: Process a PIL image for use in a PyTorch model"
   ]
  },
  {
   "cell_type": "markdown",
   "metadata": {},
   "source": [
    "To check your work, the function below converts a PyTorch tensor and displays it in the notebook. If your `process_image` function works, running the output through this function should return the original image (except for the cropped out portions)."
   ]
  },
  {
   "cell_type": "code",
   "execution_count": null,
   "metadata": {},
   "outputs": [],
   "source": [
    "def imshow(image, ax=None, title=None):\n",
    "    \"\"\"Imshow for Tensor.\"\"\""
   ]
  },
  {
   "cell_type": "markdown",
   "metadata": {},
   "source": [
    "## Class Prediction\n",
    "\n",
    "Once you can get images in the correct format, it's time to write a function for making predictions with your model. A common practice is to predict the top 5 or so (usually called top-$K$) most probable classes. You'll want to calculate the class probabilities then find the $K$ largest values.\n",
    "\n",
    "To get the top $K$ largest values in a tensor use [`x.topk(k)`](http://pytorch.org/docs/master/torch.html#torch.topk). This method returns both the highest `k` probabilities and the indices of those probabilities corresponding to the classes. You need to convert from these indices to the actual class labels using `class_to_idx` which hopefully you added to the model or from an `ImageFolder` you used to load the data ([see here](#Save-the-checkpoint)). Make sure to invert the dictionary so you get a mapping from index to class as well.\n",
    "\n",
    "Again, this method should take a path to an image and a model checkpoint, then return the probabilities and classes.\n",
    "\n",
    "```python\n",
    "probs, classes = predict(image_path, model)\n",
    "print(probs)\n",
    "print(classes)\n",
    "> [ 0.01558163  0.01541934  0.01452626  0.01443549  0.01407339]\n",
    "> ['70', '3', '45', '62', '55']\n",
    "```"
   ]
  },
  {
   "cell_type": "code",
   "execution_count": null,
   "metadata": {},
   "outputs": [],
   "source": [
    "def predict(image_path, model, topk=5):\n",
    "    ''' Predict the class (or classes) of an image using a trained deep learning model.\n",
    "    '''\n",
    "    \n",
    "    # TODO: Implement the code to predict the class from an image file"
   ]
  },
  {
   "cell_type": "markdown",
   "metadata": {},
   "source": [
    "## Sanity Checking\n",
    "\n",
    "Now that you can use a trained model for predictions, check to make sure it makes sense. Even if the testing accuracy is high, it's always good to check that there aren't obvious bugs. Use `matplotlib` to plot the probabilities for the top 5 classes as a bar graph, along with the input image. It should look like this:\n",
    "\n",
    "<img src='assets/inference_example.png' width=300px>\n",
    "\n",
    "You can convert from the class integer encoding to actual flower names with the `cat_to_name.json` file (should have been loaded earlier in the notebook). To show a PyTorch tensor as an image, use the `imshow` function defined above."
   ]
  },
  {
   "cell_type": "code",
   "execution_count": null,
   "metadata": {},
   "outputs": [],
   "source": [
    "# TODO: Display an image along with the top 5 classes"
   ]
  },
  {
   "cell_type": "code",
   "execution_count": null,
   "metadata": {},
   "outputs": [],
   "source": []
  }
 ],
 "metadata": {
  "kernelspec": {
   "display_name": "Python 3",
   "language": "python",
   "name": "python3"
  },
  "language_info": {
   "codemirror_mode": {
    "name": "ipython",
    "version": 3
   },
   "file_extension": ".py",
   "mimetype": "text/x-python",
   "name": "python",
   "nbconvert_exporter": "python",
   "pygments_lexer": "ipython3",
   "version": "3.8.3"
  }
 },
 "nbformat": 4,
 "nbformat_minor": 2
}
